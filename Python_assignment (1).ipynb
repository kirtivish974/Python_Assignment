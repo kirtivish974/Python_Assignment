{
  "nbformat": 4,
  "nbformat_minor": 0,
  "metadata": {
    "colab": {
      "provenance": []
    },
    "kernelspec": {
      "name": "python3",
      "display_name": "Python 3"
    },
    "language_info": {
      "name": "python"
    }
  },
  "cells": [
    {
      "cell_type": "markdown",
      "source": [
        "### 1. Write a Python program to print \"Hello, World!\""
      ],
      "metadata": {
        "id": "y0dNLqn4nA34"
      }
    },
    {
      "cell_type": "code",
      "execution_count": null,
      "metadata": {
        "colab": {
          "base_uri": "https://localhost:8080/"
        },
        "id": "STkJpgmhmuXj",
        "outputId": "02744a6f-4611-42b5-ccd2-08924051e330"
      },
      "outputs": [
        {
          "output_type": "stream",
          "name": "stdout",
          "text": [
            "Hello, World!\n",
            "Hello, World!\n"
          ]
        }
      ],
      "source": [
        "a = \"Hello, World!\"\n",
        "print(a)\n",
        "\n",
        "#or\n",
        "\n",
        "print(\"Hello, World!\")"
      ]
    },
    {
      "cell_type": "markdown",
      "source": [
        "### 2. Write a Python program that displays your name and age."
      ],
      "metadata": {
        "id": "ZwjR0Hson48Y"
      }
    },
    {
      "cell_type": "code",
      "source": [
        "name = \"Kirti\"\n",
        "age = 21\n",
        "print(name, age)"
      ],
      "metadata": {
        "colab": {
          "base_uri": "https://localhost:8080/"
        },
        "id": "9hI05qR-npdZ",
        "outputId": "4620b0b3-116e-4f0b-aae4-e2d3c8b4dd20"
      },
      "execution_count": null,
      "outputs": [
        {
          "output_type": "stream",
          "name": "stdout",
          "text": [
            "Kirti 21\n"
          ]
        }
      ]
    },
    {
      "cell_type": "markdown",
      "source": [
        "### 3. Write code to print all the pre-defined keywords in Python using the keyword library."
      ],
      "metadata": {
        "id": "KBo3Gn_iocJr"
      }
    },
    {
      "cell_type": "code",
      "source": [
        "import keyword\n",
        "print(keyword.kwlist)\n"
      ],
      "metadata": {
        "colab": {
          "base_uri": "https://localhost:8080/"
        },
        "id": "c5tjC4evoohj",
        "outputId": "198c655f-3e95-4b2f-fc50-9029e63176c3"
      },
      "execution_count": 1,
      "outputs": [
        {
          "output_type": "stream",
          "name": "stdout",
          "text": [
            "['False', 'None', 'True', 'and', 'as', 'assert', 'async', 'await', 'break', 'class', 'continue', 'def', 'del', 'elif', 'else', 'except', 'finally', 'for', 'from', 'global', 'if', 'import', 'in', 'is', 'lambda', 'nonlocal', 'not', 'or', 'pass', 'raise', 'return', 'try', 'while', 'with', 'yield']\n"
          ]
        }
      ]
    },
    {
      "cell_type": "code",
      "source": [
        "#or\n",
        "\n",
        "for kw in keyword.kwlist:\n",
        "    print(kw)"
      ],
      "metadata": {
        "colab": {
          "base_uri": "https://localhost:8080/"
        },
        "id": "4AshyN_mZbMY",
        "outputId": "a3b93666-a979-41ce-977e-8a8172020e17"
      },
      "execution_count": 2,
      "outputs": [
        {
          "output_type": "stream",
          "name": "stdout",
          "text": [
            "False\n",
            "None\n",
            "True\n",
            "and\n",
            "as\n",
            "assert\n",
            "async\n",
            "await\n",
            "break\n",
            "class\n",
            "continue\n",
            "def\n",
            "del\n",
            "elif\n",
            "else\n",
            "except\n",
            "finally\n",
            "for\n",
            "from\n",
            "global\n",
            "if\n",
            "import\n",
            "in\n",
            "is\n",
            "lambda\n",
            "nonlocal\n",
            "not\n",
            "or\n",
            "pass\n",
            "raise\n",
            "return\n",
            "try\n",
            "while\n",
            "with\n",
            "yield\n"
          ]
        }
      ]
    },
    {
      "cell_type": "markdown",
      "source": [
        "### 4. Write a program that checks if a given word is a Python keyword."
      ],
      "metadata": {
        "id": "WLphC7TTrk1Y"
      }
    },
    {
      "cell_type": "code",
      "source": [
        "word = input(\"Enter a word to check if it's a Python keyword: \")\n",
        "print(keyword.iskeyword(word))\n"
      ],
      "metadata": {
        "colab": {
          "base_uri": "https://localhost:8080/"
        },
        "id": "H4JAMvywrUmn",
        "outputId": "3ddec5ce-9cb5-4eb3-dabd-b87ba3750d06"
      },
      "execution_count": 5,
      "outputs": [
        {
          "output_type": "stream",
          "name": "stdout",
          "text": [
            "Enter a word to check if it's a Python keyword: for\n",
            "True\n"
          ]
        }
      ]
    },
    {
      "cell_type": "markdown",
      "source": [
        "### 5. Create a list and tuple in Python, and demonstrate how attempting to change an element works differently for each."
      ],
      "metadata": {
        "id": "JPR_4xD8tL9i"
      }
    },
    {
      "cell_type": "code",
      "source": [
        "#List\n",
        "\n",
        "l1= [\"Apple\", \"Banana\", \"Kiwi\", \"Mango\", \"pineapple\"]\n",
        "print(l1)\n",
        "\n",
        "l1[3] = \"grapes\"\n",
        "print(l1)"
      ],
      "metadata": {
        "colab": {
          "base_uri": "https://localhost:8080/"
        },
        "id": "pkS8NGh_tEF0",
        "outputId": "7cd4a1af-3b7f-49f8-ed66-4acabd81c9b2"
      },
      "execution_count": null,
      "outputs": [
        {
          "output_type": "stream",
          "name": "stdout",
          "text": [
            "['Apple', 'Banana', 'Kiwi', 'Mango', 'pineapple']\n",
            "['Apple', 'Banana', 'Kiwi', 'grapes', 'pineapple']\n"
          ]
        }
      ]
    },
    {
      "cell_type": "code",
      "source": [
        "#Tuple\n",
        "\n",
        "t1 = (\"Apple\", \"Banana\", \"Kiwi\", \"Mango\", \"pineapple\")\n",
        "print(t1)\n",
        "\n",
        "t1[2] = \"grapes\"\n",
        "print(t1)"
      ],
      "metadata": {
        "colab": {
          "base_uri": "https://localhost:8080/",
          "height": 211
        },
        "id": "EacpH_ZbuVsK",
        "outputId": "545bb9c9-b7cb-419f-ddb5-3013164e1e62"
      },
      "execution_count": null,
      "outputs": [
        {
          "output_type": "stream",
          "name": "stdout",
          "text": [
            "('Apple', 'Banana', 'Kiwi', 'Mango', 'pineapple')\n"
          ]
        },
        {
          "output_type": "error",
          "ename": "TypeError",
          "evalue": "'tuple' object does not support item assignment",
          "traceback": [
            "\u001b[0;31m---------------------------------------------------------------------------\u001b[0m",
            "\u001b[0;31mTypeError\u001b[0m                                 Traceback (most recent call last)",
            "\u001b[0;32m/tmp/ipython-input-1961826535.py\u001b[0m in \u001b[0;36m<cell line: 0>\u001b[0;34m()\u001b[0m\n\u001b[1;32m      4\u001b[0m \u001b[0mprint\u001b[0m\u001b[0;34m(\u001b[0m\u001b[0mt1\u001b[0m\u001b[0;34m)\u001b[0m\u001b[0;34m\u001b[0m\u001b[0;34m\u001b[0m\u001b[0m\n\u001b[1;32m      5\u001b[0m \u001b[0;34m\u001b[0m\u001b[0m\n\u001b[0;32m----> 6\u001b[0;31m \u001b[0mt1\u001b[0m\u001b[0;34m[\u001b[0m\u001b[0;36m2\u001b[0m\u001b[0;34m]\u001b[0m \u001b[0;34m=\u001b[0m \u001b[0;34m\"grapes\"\u001b[0m\u001b[0;34m\u001b[0m\u001b[0;34m\u001b[0m\u001b[0m\n\u001b[0m\u001b[1;32m      7\u001b[0m \u001b[0mprint\u001b[0m\u001b[0;34m(\u001b[0m\u001b[0mt1\u001b[0m\u001b[0;34m)\u001b[0m\u001b[0;34m\u001b[0m\u001b[0;34m\u001b[0m\u001b[0m\n",
            "\u001b[0;31mTypeError\u001b[0m: 'tuple' object does not support item assignment"
          ]
        }
      ]
    },
    {
      "cell_type": "code",
      "source": [
        "#if we want to change an element in Tuples, we need to change it first in list than change back to tuple.\n",
        "#For example:\n",
        "\n",
        "t2 = (12, 15, 26, 89, 37)\n",
        "print(t2)\n",
        "\n",
        "l2 = list(t2)\n",
        "l2[2] = 79\n",
        "t2 = tuple(l2)\n",
        "print(t2)\n",
        "\n",
        "\n"
      ],
      "metadata": {
        "colab": {
          "base_uri": "https://localhost:8080/"
        },
        "id": "Y_Iy-ZWZ4Fi3",
        "outputId": "bc918c30-b2a3-4323-8c45-6ac2a46b16f4"
      },
      "execution_count": null,
      "outputs": [
        {
          "output_type": "stream",
          "name": "stdout",
          "text": [
            "(12, 15, 26, 89, 37)\n",
            "(12, 15, 79, 89, 37)\n"
          ]
        }
      ]
    },
    {
      "cell_type": "markdown",
      "source": [
        "### 6. Write a function to demonstrate the behavior of mutable and immutable arguments.\n"
      ],
      "metadata": {
        "id": "mUfqUqoJ5sdJ"
      }
    },
    {
      "cell_type": "code",
      "source": [
        "n = 5              # Immutable (int)\n",
        "l3 = [1, 2, 3]      # Mutable (list)\n",
        "\n",
        "# Modify the immutable object\n",
        "\n",
        "n += 10\n",
        "print(\"After modification, num:\", n)      # Only changes here; outside value changes if you modify directly\n",
        "\n",
        "# Modify the mutable object\n",
        "\n",
        "l3.append(100)\n",
        "print(\"After modification, list:\", l3)      # List reflects changes across all references\n"
      ],
      "metadata": {
        "colab": {
          "base_uri": "https://localhost:8080/"
        },
        "id": "hmjFmxlR5g93",
        "outputId": "be32bc0b-df67-4b6a-9898-258f562e5736"
      },
      "execution_count": 6,
      "outputs": [
        {
          "output_type": "stream",
          "name": "stdout",
          "text": [
            "After modification, num: 15\n",
            "After modification, list: [1, 2, 3, 100]\n"
          ]
        }
      ]
    },
    {
      "cell_type": "markdown",
      "source": [
        "### 7. Write a program that performs basic arithmetic operations on two user-input numbers."
      ],
      "metadata": {
        "id": "nPzk0Sm1-F7h"
      }
    },
    {
      "cell_type": "code",
      "source": [
        "x = int(input(\"Enter Your 1st Number: \"))\n",
        "y = int(input(\"Enter Your 2nd Number: \"))\n",
        "print(\"Addition:\", x + y)\n",
        "print(\"Multiplication:\", x * y)\n",
        "print(\"Subtraction:\", x - y)\n",
        "print(\"Division:\", x / y)\n",
        "print(\"Floor Division:\", x // y)\n",
        "print(\"Modulus:\", x % y)\n",
        "print(\"Exponent:\", x ** y)"
      ],
      "metadata": {
        "colab": {
          "base_uri": "https://localhost:8080/"
        },
        "id": "ErAxKfWx7HE-",
        "outputId": "18c8fb87-0d28-483b-e305-49b367f61372"
      },
      "execution_count": null,
      "outputs": [
        {
          "output_type": "stream",
          "name": "stdout",
          "text": [
            "Enter Your 1st Number: 24\n",
            "Enter Your 2nd Number: 2\n",
            "Addition: 26\n",
            "Multiplication: 48\n",
            "Subtraction: 22\n",
            "Division: 12.0\n",
            "Floor Division: 12\n",
            "Modulus: 0\n",
            "Exponent: 576\n"
          ]
        }
      ]
    },
    {
      "cell_type": "markdown",
      "source": [
        "### 8. Write a program to demonstrate the use of logical operators"
      ],
      "metadata": {
        "id": "5EGYswh-Ar72"
      }
    },
    {
      "cell_type": "code",
      "source": [
        "# and Operator\n",
        "# True only if both conditions are true.\n",
        "\n",
        "m = 40\n",
        "print(50 < m and m < 90)\n",
        "print(60 > m and m > 10)"
      ],
      "metadata": {
        "colab": {
          "base_uri": "https://localhost:8080/"
        },
        "id": "Qa06tyJZ-06V",
        "outputId": "6b4ea6da-fc89-49f1-ecc8-f3ec43722f53"
      },
      "execution_count": null,
      "outputs": [
        {
          "output_type": "stream",
          "name": "stdout",
          "text": [
            "False\n",
            "True\n"
          ]
        }
      ]
    },
    {
      "cell_type": "code",
      "source": [
        "# or Operator\n",
        "# True if at least one condition is true.\n",
        "\n",
        "n = 45\n",
        "print(n > 20 or n < 10)\n",
        "print(n < 40 or n > 85)"
      ],
      "metadata": {
        "colab": {
          "base_uri": "https://localhost:8080/"
        },
        "id": "4K7_eqdAZ-Ge",
        "outputId": "ac6d7b25-8c22-462c-b580-6f8497ba6094"
      },
      "execution_count": null,
      "outputs": [
        {
          "output_type": "stream",
          "name": "stdout",
          "text": [
            "True\n",
            "False\n"
          ]
        }
      ]
    },
    {
      "cell_type": "code",
      "source": [
        "# not Operator\n",
        "# Reverses the condition\n",
        "\n",
        "r = 10\n",
        "print(not(r > 5))\n",
        "print(not(r < 5))"
      ],
      "metadata": {
        "colab": {
          "base_uri": "https://localhost:8080/"
        },
        "id": "u_3_iQCPdyoK",
        "outputId": "8ce6d0a6-1910-450f-ecfb-7bf90a4d92e3"
      },
      "execution_count": null,
      "outputs": [
        {
          "output_type": "stream",
          "name": "stdout",
          "text": [
            "False\n",
            "True\n"
          ]
        }
      ]
    },
    {
      "cell_type": "markdown",
      "source": [
        "### 9. Write a Python program to convert user input from string to integer, float, and boolean types."
      ],
      "metadata": {
        "id": "39b5Ok81fzeu"
      }
    },
    {
      "cell_type": "code",
      "source": [
        "s = input(\"Enter Your Value: \")\n",
        "print(s, type(s))\n",
        "\n",
        "# from string to integer\n",
        "i = int(input(\"Enter Your Value: \"))           #this convert entered string input into integer value\n",
        "print(i, type(i))\n",
        "\n",
        "# from string to float\n",
        "f = float(input(\"Enter Your Value: \"))         #this convert entered string input into float value\n",
        "print(f, type(f))\n",
        "\n",
        "# from string to boolean\n",
        "b = bool(input(\"Enter Your Value: \"))          #this convert entered string input into boolean value\n",
        "print(b, type(b))"
      ],
      "metadata": {
        "colab": {
          "base_uri": "https://localhost:8080/"
        },
        "id": "jFT_lRj0fwa3",
        "outputId": "447e87ff-4636-4877-89aa-0a7ac1649600"
      },
      "execution_count": 7,
      "outputs": [
        {
          "output_type": "stream",
          "name": "stdout",
          "text": [
            "Enter Your Value: 54\n",
            "54 <class 'str'>\n",
            "Enter Your Value: 54\n",
            "54 <class 'int'>\n",
            "Enter Your Value: 54\n",
            "54.0 <class 'float'>\n",
            "Enter Your Value: 54\n",
            "True <class 'bool'>\n"
          ]
        }
      ]
    },
    {
      "cell_type": "markdown",
      "source": [
        "### 10. Write code to demonstrate type casting with list elements."
      ],
      "metadata": {
        "id": "2KEEN3gTh5co"
      }
    },
    {
      "cell_type": "code",
      "source": [
        "# List of strings representing numbers\n",
        "\n",
        "s1 = [\"1\", \"2\", \"3\", \"apple\", \"5\"]\n",
        "\n",
        "# Try converting all to int, expect error for \"apple\"\n",
        "\n",
        "i1 = []\n",
        "\n",
        "for s in s1:\n",
        "    try:\n",
        "        i1.append(int(s))\n",
        "    except ValueError:\n",
        "        print(f\"Cannot convert '{s}' to int!\")\n",
        "print(i1)\n",
        "\n"
      ],
      "metadata": {
        "colab": {
          "base_uri": "https://localhost:8080/"
        },
        "id": "M37d-BM0gmki",
        "outputId": "ce0b2495-821d-4e5b-adcc-7d1428cd03b5"
      },
      "execution_count": 9,
      "outputs": [
        {
          "output_type": "stream",
          "name": "stdout",
          "text": [
            "Cannot convert 'apple' to int!\n",
            "[1, 2, 3, 5]\n"
          ]
        }
      ]
    },
    {
      "cell_type": "markdown",
      "source": [
        "### 11. Write a program that checks if a number is positive, negative, or zero."
      ],
      "metadata": {
        "id": "hrJgORswkPA_"
      }
    },
    {
      "cell_type": "code",
      "source": [
        "check = int(input(\"Enter Your Number: \"))\n",
        "if check == 0:\n",
        "  print(\"Your Number is equal to Zero.\")\n",
        "\n",
        "elif check > 0:\n",
        "  print(\"Your Number is Positive.\")\n",
        "\n",
        "else:\n",
        "  print(\"Your Number is Negative.\")"
      ],
      "metadata": {
        "id": "wB5UD648jvFT",
        "colab": {
          "base_uri": "https://localhost:8080/"
        },
        "outputId": "41ebe13c-daf2-430f-d181-528272b9821c"
      },
      "execution_count": null,
      "outputs": [
        {
          "output_type": "stream",
          "name": "stdout",
          "text": [
            "Enter Your Number: 5423\n",
            "Your Number is Positive.\n"
          ]
        }
      ]
    },
    {
      "cell_type": "markdown",
      "source": [
        "### 12. Write a for loop to print numbers from 1 to 10."
      ],
      "metadata": {
        "id": "gConSUBJ_gMl"
      }
    },
    {
      "cell_type": "code",
      "source": [
        "for i in range(1, 11):\n",
        "  print(i)"
      ],
      "metadata": {
        "colab": {
          "base_uri": "https://localhost:8080/"
        },
        "id": "JjH-DCHJ-5bp",
        "outputId": "ef43e951-6b03-4e86-9fc8-1e829b9b0df5"
      },
      "execution_count": null,
      "outputs": [
        {
          "output_type": "stream",
          "name": "stdout",
          "text": [
            "1\n",
            "2\n",
            "3\n",
            "4\n",
            "5\n",
            "6\n",
            "7\n",
            "8\n",
            "9\n",
            "10\n"
          ]
        }
      ]
    },
    {
      "cell_type": "markdown",
      "source": [
        "### 13. Write a Python program to find the sum of all even numbers between 1 and 50."
      ],
      "metadata": {
        "id": "vb79cyo2Hjzu"
      }
    },
    {
      "cell_type": "code",
      "source": [
        "total = 0\n",
        "for i in range(1, 51):\n",
        "  if i % 2 == 0:\n",
        "    print(i)\n",
        "    total += i\n",
        "print(\"Total Sum is:\", total)"
      ],
      "metadata": {
        "colab": {
          "base_uri": "https://localhost:8080/"
        },
        "id": "B0rkJW-DHOuS",
        "outputId": "7f50cb5c-b808-4992-f971-cf6388535df3"
      },
      "execution_count": null,
      "outputs": [
        {
          "output_type": "stream",
          "name": "stdout",
          "text": [
            "2\n",
            "4\n",
            "6\n",
            "8\n",
            "10\n",
            "12\n",
            "14\n",
            "16\n",
            "18\n",
            "20\n",
            "22\n",
            "24\n",
            "26\n",
            "28\n",
            "30\n",
            "32\n",
            "34\n",
            "36\n",
            "38\n",
            "40\n",
            "42\n",
            "44\n",
            "46\n",
            "48\n",
            "50\n",
            "Total Sum is: 650\n"
          ]
        }
      ]
    },
    {
      "cell_type": "markdown",
      "source": [
        "### 14. Write a program to reverse a string using a while loop."
      ],
      "metadata": {
        "id": "cnShBpObPFit"
      }
    },
    {
      "cell_type": "code",
      "source": [
        "string = \"Hello\"\n",
        "reversed_str = \"\"\n",
        "i = len(string) - 1\n",
        "while i >= 0:\n",
        "    reversed_str += string[i]\n",
        "    i -= 1\n",
        "print(reversed_str)"
      ],
      "metadata": {
        "colab": {
          "base_uri": "https://localhost:8080/"
        },
        "id": "mPkhS0lkIPRQ",
        "outputId": "e0bf9f42-5420-4be1-e717-f48b8949a1ff"
      },
      "execution_count": 10,
      "outputs": [
        {
          "output_type": "stream",
          "name": "stdout",
          "text": [
            "olleH\n"
          ]
        }
      ]
    },
    {
      "cell_type": "markdown",
      "source": [
        "### 15. Write a Python program to calculate the factorial of a number provided by the user using a while loop."
      ],
      "metadata": {
        "id": "VR3mdaqaYFgP"
      }
    },
    {
      "cell_type": "code",
      "source": [
        "user = int(input(\"Enter Your Number: \"))\n",
        "fact = 1\n",
        "n = user\n",
        "while n > 0:\n",
        "  fact = fact * n\n",
        "  n = n - 1\n",
        "print(fact)"
      ],
      "metadata": {
        "colab": {
          "base_uri": "https://localhost:8080/"
        },
        "id": "hNmiibl5Q-st",
        "outputId": "c8be3883-69d2-4c37-8a55-b0cdaafcdd29"
      },
      "execution_count": null,
      "outputs": [
        {
          "output_type": "stream",
          "name": "stdout",
          "text": [
            "Enter Your Number: 5\n",
            "120\n"
          ]
        }
      ]
    },
    {
      "cell_type": "markdown",
      "source": [
        "#THANK YOU :)"
      ],
      "metadata": {
        "id": "fBDFPK0EiDRD"
      }
    }
  ]
}